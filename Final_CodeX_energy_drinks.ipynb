{
 "cells": [
  {
   "cell_type": "markdown",
   "id": "2ff3baf3",
   "metadata": {},
   "source": [
    "## ----- Data Cleaning and preprocessing"
   ]
  },
  {
   "cell_type": "code",
   "execution_count": 1,
   "id": "95ea99ae",
   "metadata": {},
   "outputs": [],
   "source": [
    "# Importing necessary libraries \n",
    "import pandas as pd \n",
    "import numpy as np \n",
    "import matplotlib.pyplot as plt\n",
    "import seaborn as sns"
   ]
  },
  {
   "cell_type": "markdown",
   "id": "7d266388",
   "metadata": {},
   "source": [
    "### There are 3 datasets which are needed and we have to combine them for further analysis"
   ]
  },
  {
   "cell_type": "code",
   "execution_count": 2,
   "id": "5f364c90",
   "metadata": {},
   "outputs": [],
   "source": [
    "df1=pd.read_csv(r\"C:\\Users\\91701\\Downloads\\C6 Input Files\\C6 Input Files\\Dataset\\dim_repondents.csv\")\n",
    "df2=pd.read_csv(r\"C:\\Users\\91701\\Downloads\\C6 Input Files\\C6 Input Files\\Dataset\\fact_survey_responses.csv\")\n",
    "df3=pd.read_csv(r\"C:\\Users\\91701\\Downloads\\C6 Input Files\\C6 Input Files\\Dataset\\dim_cities.csv\")"
   ]
  },
  {
   "cell_type": "code",
   "execution_count": 3,
   "id": "c2cb008e",
   "metadata": {},
   "outputs": [
    {
     "data": {
      "text/html": [
       "<div>\n",
       "<style scoped>\n",
       "    .dataframe tbody tr th:only-of-type {\n",
       "        vertical-align: middle;\n",
       "    }\n",
       "\n",
       "    .dataframe tbody tr th {\n",
       "        vertical-align: top;\n",
       "    }\n",
       "\n",
       "    .dataframe thead th {\n",
       "        text-align: right;\n",
       "    }\n",
       "</style>\n",
       "<table border=\"1\" class=\"dataframe\">\n",
       "  <thead>\n",
       "    <tr style=\"text-align: right;\">\n",
       "      <th></th>\n",
       "      <th>Respondent_ID</th>\n",
       "      <th>Name</th>\n",
       "      <th>Age</th>\n",
       "      <th>Gender</th>\n",
       "      <th>City_ID</th>\n",
       "    </tr>\n",
       "  </thead>\n",
       "  <tbody>\n",
       "    <tr>\n",
       "      <th>0</th>\n",
       "      <td>120031</td>\n",
       "      <td>Aniruddh Issac</td>\n",
       "      <td>15-18</td>\n",
       "      <td>Female</td>\n",
       "      <td>CT117</td>\n",
       "    </tr>\n",
       "    <tr>\n",
       "      <th>1</th>\n",
       "      <td>120032</td>\n",
       "      <td>Trisha Rout</td>\n",
       "      <td>19-30</td>\n",
       "      <td>Male</td>\n",
       "      <td>CT118</td>\n",
       "    </tr>\n",
       "    <tr>\n",
       "      <th>2</th>\n",
       "      <td>120033</td>\n",
       "      <td>Yuvraj  Virk</td>\n",
       "      <td>15-18</td>\n",
       "      <td>Male</td>\n",
       "      <td>CT116</td>\n",
       "    </tr>\n",
       "  </tbody>\n",
       "</table>\n",
       "</div>"
      ],
      "text/plain": [
       "   Respondent_ID            Name    Age  Gender City_ID\n",
       "0         120031  Aniruddh Issac  15-18  Female   CT117\n",
       "1         120032     Trisha Rout  19-30    Male   CT118\n",
       "2         120033    Yuvraj  Virk  15-18    Male   CT116"
      ]
     },
     "execution_count": 3,
     "metadata": {},
     "output_type": "execute_result"
    }
   ],
   "source": [
    "df1.head(3)"
   ]
  },
  {
   "cell_type": "code",
   "execution_count": 4,
   "id": "50c1c1df",
   "metadata": {},
   "outputs": [
    {
     "name": "stdout",
     "output_type": "stream",
     "text": [
      "<class 'pandas.core.frame.DataFrame'>\n",
      "RangeIndex: 10000 entries, 0 to 9999\n",
      "Data columns (total 5 columns):\n",
      " #   Column         Non-Null Count  Dtype \n",
      "---  ------         --------------  ----- \n",
      " 0   Respondent_ID  10000 non-null  int64 \n",
      " 1   Name           10000 non-null  object\n",
      " 2   Age            10000 non-null  object\n",
      " 3   Gender         10000 non-null  object\n",
      " 4   City_ID        10000 non-null  object\n",
      "dtypes: int64(1), object(4)\n",
      "memory usage: 390.8+ KB\n"
     ]
    }
   ],
   "source": [
    "df1.info()\n",
    "# no null values and this dataset has 10k rows and 5 columns"
   ]
  },
  {
   "cell_type": "code",
   "execution_count": 5,
   "id": "a63835e1",
   "metadata": {},
   "outputs": [
    {
     "data": {
      "text/html": [
       "<div>\n",
       "<style scoped>\n",
       "    .dataframe tbody tr th:only-of-type {\n",
       "        vertical-align: middle;\n",
       "    }\n",
       "\n",
       "    .dataframe tbody tr th {\n",
       "        vertical-align: top;\n",
       "    }\n",
       "\n",
       "    .dataframe thead th {\n",
       "        text-align: right;\n",
       "    }\n",
       "</style>\n",
       "<table border=\"1\" class=\"dataframe\">\n",
       "  <thead>\n",
       "    <tr style=\"text-align: right;\">\n",
       "      <th></th>\n",
       "      <th>Response_ID</th>\n",
       "      <th>Respondent_ID</th>\n",
       "      <th>Consume_frequency</th>\n",
       "      <th>Consume_time</th>\n",
       "      <th>Consume_reason</th>\n",
       "      <th>Heard_before</th>\n",
       "      <th>Brand_perception</th>\n",
       "      <th>General_perception</th>\n",
       "      <th>Tried_before</th>\n",
       "      <th>Taste_experience</th>\n",
       "      <th>...</th>\n",
       "      <th>Improvements_desired</th>\n",
       "      <th>Ingredients_expected</th>\n",
       "      <th>Health_concerns</th>\n",
       "      <th>Interest_in_natural_or_organic</th>\n",
       "      <th>Marketing_channels</th>\n",
       "      <th>Packaging_preference</th>\n",
       "      <th>Limited_edition_packaging</th>\n",
       "      <th>Price_range</th>\n",
       "      <th>Purchase_location</th>\n",
       "      <th>Typical_consumption_situations</th>\n",
       "    </tr>\n",
       "  </thead>\n",
       "  <tbody>\n",
       "    <tr>\n",
       "      <th>0</th>\n",
       "      <td>103001</td>\n",
       "      <td>120031</td>\n",
       "      <td>2-3 times a week</td>\n",
       "      <td>To stay awake during work/study</td>\n",
       "      <td>Increased energy and focus</td>\n",
       "      <td>Yes</td>\n",
       "      <td>Neutral</td>\n",
       "      <td>Not sure</td>\n",
       "      <td>No</td>\n",
       "      <td>5</td>\n",
       "      <td>...</td>\n",
       "      <td>Reduced sugar content</td>\n",
       "      <td>Guarana</td>\n",
       "      <td>No</td>\n",
       "      <td>Yes</td>\n",
       "      <td>TV commercials</td>\n",
       "      <td>Compact and portable cans</td>\n",
       "      <td>Yes</td>\n",
       "      <td>50-99</td>\n",
       "      <td>Supermarkets</td>\n",
       "      <td>Studying/working late</td>\n",
       "    </tr>\n",
       "    <tr>\n",
       "      <th>1</th>\n",
       "      <td>103002</td>\n",
       "      <td>120032</td>\n",
       "      <td>2-3 times a month</td>\n",
       "      <td>Throughout the day</td>\n",
       "      <td>To boost performance</td>\n",
       "      <td>No</td>\n",
       "      <td>Neutral</td>\n",
       "      <td>Not sure</td>\n",
       "      <td>No</td>\n",
       "      <td>5</td>\n",
       "      <td>...</td>\n",
       "      <td>More natural ingredients</td>\n",
       "      <td>Caffeine</td>\n",
       "      <td>Yes</td>\n",
       "      <td>Not Sure</td>\n",
       "      <td>Print media</td>\n",
       "      <td>Compact and portable cans</td>\n",
       "      <td>No</td>\n",
       "      <td>50-99</td>\n",
       "      <td>Supermarkets</td>\n",
       "      <td>Sports/exercise</td>\n",
       "    </tr>\n",
       "    <tr>\n",
       "      <th>2</th>\n",
       "      <td>103003</td>\n",
       "      <td>120033</td>\n",
       "      <td>Rarely</td>\n",
       "      <td>Before exercise</td>\n",
       "      <td>Increased energy and focus</td>\n",
       "      <td>No</td>\n",
       "      <td>Neutral</td>\n",
       "      <td>Not sure</td>\n",
       "      <td>No</td>\n",
       "      <td>2</td>\n",
       "      <td>...</td>\n",
       "      <td>More natural ingredients</td>\n",
       "      <td>Caffeine</td>\n",
       "      <td>No</td>\n",
       "      <td>Yes</td>\n",
       "      <td>Online ads</td>\n",
       "      <td>Innovative bottle design</td>\n",
       "      <td>Not Sure</td>\n",
       "      <td>100-150</td>\n",
       "      <td>Supermarkets</td>\n",
       "      <td>Studying/working late</td>\n",
       "    </tr>\n",
       "  </tbody>\n",
       "</table>\n",
       "<p>3 rows × 23 columns</p>\n",
       "</div>"
      ],
      "text/plain": [
       "   Response_ID  Respondent_ID  Consume_frequency  \\\n",
       "0       103001         120031   2-3 times a week   \n",
       "1       103002         120032  2-3 times a month   \n",
       "2       103003         120033             Rarely   \n",
       "\n",
       "                      Consume_time              Consume_reason Heard_before  \\\n",
       "0  To stay awake during work/study  Increased energy and focus          Yes   \n",
       "1               Throughout the day        To boost performance           No   \n",
       "2                  Before exercise  Increased energy and focus           No   \n",
       "\n",
       "  Brand_perception General_perception Tried_before  Taste_experience  ...  \\\n",
       "0          Neutral           Not sure           No                 5  ...   \n",
       "1          Neutral           Not sure           No                 5  ...   \n",
       "2          Neutral           Not sure           No                 2  ...   \n",
       "\n",
       "       Improvements_desired Ingredients_expected Health_concerns  \\\n",
       "0     Reduced sugar content              Guarana              No   \n",
       "1  More natural ingredients             Caffeine             Yes   \n",
       "2  More natural ingredients             Caffeine              No   \n",
       "\n",
       "  Interest_in_natural_or_organic Marketing_channels  \\\n",
       "0                            Yes     TV commercials   \n",
       "1                       Not Sure        Print media   \n",
       "2                            Yes         Online ads   \n",
       "\n",
       "        Packaging_preference Limited_edition_packaging Price_range  \\\n",
       "0  Compact and portable cans                       Yes       50-99   \n",
       "1  Compact and portable cans                        No       50-99   \n",
       "2   Innovative bottle design                  Not Sure     100-150   \n",
       "\n",
       "  Purchase_location Typical_consumption_situations  \n",
       "0      Supermarkets          Studying/working late  \n",
       "1      Supermarkets                Sports/exercise  \n",
       "2      Supermarkets          Studying/working late  \n",
       "\n",
       "[3 rows x 23 columns]"
      ]
     },
     "execution_count": 5,
     "metadata": {},
     "output_type": "execute_result"
    }
   ],
   "source": [
    "df2.head(3)"
   ]
  },
  {
   "cell_type": "code",
   "execution_count": 6,
   "id": "e3b27faf",
   "metadata": {},
   "outputs": [
    {
     "name": "stdout",
     "output_type": "stream",
     "text": [
      "<class 'pandas.core.frame.DataFrame'>\n",
      "RangeIndex: 10000 entries, 0 to 9999\n",
      "Data columns (total 23 columns):\n",
      " #   Column                          Non-Null Count  Dtype \n",
      "---  ------                          --------------  ----- \n",
      " 0   Response_ID                     10000 non-null  int64 \n",
      " 1   Respondent_ID                   10000 non-null  int64 \n",
      " 2   Consume_frequency               10000 non-null  object\n",
      " 3   Consume_time                    10000 non-null  object\n",
      " 4   Consume_reason                  10000 non-null  object\n",
      " 5   Heard_before                    10000 non-null  object\n",
      " 6   Brand_perception                10000 non-null  object\n",
      " 7   General_perception              10000 non-null  object\n",
      " 8   Tried_before                    10000 non-null  object\n",
      " 9   Taste_experience                10000 non-null  int64 \n",
      " 10  Reasons_preventing_trying       10000 non-null  object\n",
      " 11  Current_brands                  10000 non-null  object\n",
      " 12  Reasons_for_choosing_brands     10000 non-null  object\n",
      " 13  Improvements_desired            10000 non-null  object\n",
      " 14  Ingredients_expected            10000 non-null  object\n",
      " 15  Health_concerns                 10000 non-null  object\n",
      " 16  Interest_in_natural_or_organic  10000 non-null  object\n",
      " 17  Marketing_channels              10000 non-null  object\n",
      " 18  Packaging_preference            10000 non-null  object\n",
      " 19  Limited_edition_packaging       10000 non-null  object\n",
      " 20  Price_range                     10000 non-null  object\n",
      " 21  Purchase_location               10000 non-null  object\n",
      " 22  Typical_consumption_situations  10000 non-null  object\n",
      "dtypes: int64(3), object(20)\n",
      "memory usage: 1.8+ MB\n"
     ]
    }
   ],
   "source": [
    "df2.info()\n",
    "# # no null values and this dataset has 10k rows and 23 columns"
   ]
  },
  {
   "cell_type": "code",
   "execution_count": 7,
   "id": "9eb7cdc7",
   "metadata": {},
   "outputs": [
    {
     "data": {
      "text/html": [
       "<div>\n",
       "<style scoped>\n",
       "    .dataframe tbody tr th:only-of-type {\n",
       "        vertical-align: middle;\n",
       "    }\n",
       "\n",
       "    .dataframe tbody tr th {\n",
       "        vertical-align: top;\n",
       "    }\n",
       "\n",
       "    .dataframe thead th {\n",
       "        text-align: right;\n",
       "    }\n",
       "</style>\n",
       "<table border=\"1\" class=\"dataframe\">\n",
       "  <thead>\n",
       "    <tr style=\"text-align: right;\">\n",
       "      <th></th>\n",
       "      <th>City_ID</th>\n",
       "      <th>City</th>\n",
       "      <th>Tier</th>\n",
       "    </tr>\n",
       "  </thead>\n",
       "  <tbody>\n",
       "    <tr>\n",
       "      <th>0</th>\n",
       "      <td>CT111</td>\n",
       "      <td>Delhi</td>\n",
       "      <td>Tier 1</td>\n",
       "    </tr>\n",
       "    <tr>\n",
       "      <th>1</th>\n",
       "      <td>CT112</td>\n",
       "      <td>Mumbai</td>\n",
       "      <td>Tier 1</td>\n",
       "    </tr>\n",
       "    <tr>\n",
       "      <th>2</th>\n",
       "      <td>CT113</td>\n",
       "      <td>Bangalore</td>\n",
       "      <td>Tier 1</td>\n",
       "    </tr>\n",
       "  </tbody>\n",
       "</table>\n",
       "</div>"
      ],
      "text/plain": [
       "  City_ID       City    Tier\n",
       "0   CT111      Delhi  Tier 1\n",
       "1   CT112     Mumbai  Tier 1\n",
       "2   CT113  Bangalore  Tier 1"
      ]
     },
     "execution_count": 7,
     "metadata": {},
     "output_type": "execute_result"
    }
   ],
   "source": [
    "df3.head(3)"
   ]
  },
  {
   "cell_type": "code",
   "execution_count": 8,
   "id": "943984b9",
   "metadata": {},
   "outputs": [
    {
     "name": "stdout",
     "output_type": "stream",
     "text": [
      "<class 'pandas.core.frame.DataFrame'>\n",
      "RangeIndex: 10 entries, 0 to 9\n",
      "Data columns (total 3 columns):\n",
      " #   Column   Non-Null Count  Dtype \n",
      "---  ------   --------------  ----- \n",
      " 0   City_ID  10 non-null     object\n",
      " 1   City     10 non-null     object\n",
      " 2   Tier     10 non-null     object\n",
      "dtypes: object(3)\n",
      "memory usage: 368.0+ bytes\n"
     ]
    }
   ],
   "source": [
    "df3.info()\n",
    "# no null values and this dataset has 10 rows and 3 columns"
   ]
  },
  {
   "cell_type": "code",
   "execution_count": 9,
   "id": "31bc0adf",
   "metadata": {},
   "outputs": [],
   "source": [
    "# lets merge df1 and df2 on the basis of common column \"Respondent_ID\"\n",
    "df4=pd.merge(df1, df2, on = 'Respondent_ID')"
   ]
  },
  {
   "cell_type": "code",
   "execution_count": 10,
   "id": "96ab2ee2",
   "metadata": {},
   "outputs": [
    {
     "data": {
      "text/html": [
       "<div>\n",
       "<style scoped>\n",
       "    .dataframe tbody tr th:only-of-type {\n",
       "        vertical-align: middle;\n",
       "    }\n",
       "\n",
       "    .dataframe tbody tr th {\n",
       "        vertical-align: top;\n",
       "    }\n",
       "\n",
       "    .dataframe thead th {\n",
       "        text-align: right;\n",
       "    }\n",
       "</style>\n",
       "<table border=\"1\" class=\"dataframe\">\n",
       "  <thead>\n",
       "    <tr style=\"text-align: right;\">\n",
       "      <th></th>\n",
       "      <th>Respondent_ID</th>\n",
       "      <th>Name</th>\n",
       "      <th>Age</th>\n",
       "      <th>Gender</th>\n",
       "      <th>City_ID</th>\n",
       "      <th>Response_ID</th>\n",
       "      <th>Consume_frequency</th>\n",
       "      <th>Consume_time</th>\n",
       "      <th>Consume_reason</th>\n",
       "      <th>Heard_before</th>\n",
       "      <th>...</th>\n",
       "      <th>Improvements_desired</th>\n",
       "      <th>Ingredients_expected</th>\n",
       "      <th>Health_concerns</th>\n",
       "      <th>Interest_in_natural_or_organic</th>\n",
       "      <th>Marketing_channels</th>\n",
       "      <th>Packaging_preference</th>\n",
       "      <th>Limited_edition_packaging</th>\n",
       "      <th>Price_range</th>\n",
       "      <th>Purchase_location</th>\n",
       "      <th>Typical_consumption_situations</th>\n",
       "    </tr>\n",
       "  </thead>\n",
       "  <tbody>\n",
       "    <tr>\n",
       "      <th>0</th>\n",
       "      <td>120031</td>\n",
       "      <td>Aniruddh Issac</td>\n",
       "      <td>15-18</td>\n",
       "      <td>Female</td>\n",
       "      <td>CT117</td>\n",
       "      <td>103001</td>\n",
       "      <td>2-3 times a week</td>\n",
       "      <td>To stay awake during work/study</td>\n",
       "      <td>Increased energy and focus</td>\n",
       "      <td>Yes</td>\n",
       "      <td>...</td>\n",
       "      <td>Reduced sugar content</td>\n",
       "      <td>Guarana</td>\n",
       "      <td>No</td>\n",
       "      <td>Yes</td>\n",
       "      <td>TV commercials</td>\n",
       "      <td>Compact and portable cans</td>\n",
       "      <td>Yes</td>\n",
       "      <td>50-99</td>\n",
       "      <td>Supermarkets</td>\n",
       "      <td>Studying/working late</td>\n",
       "    </tr>\n",
       "    <tr>\n",
       "      <th>1</th>\n",
       "      <td>120032</td>\n",
       "      <td>Trisha Rout</td>\n",
       "      <td>19-30</td>\n",
       "      <td>Male</td>\n",
       "      <td>CT118</td>\n",
       "      <td>103002</td>\n",
       "      <td>2-3 times a month</td>\n",
       "      <td>Throughout the day</td>\n",
       "      <td>To boost performance</td>\n",
       "      <td>No</td>\n",
       "      <td>...</td>\n",
       "      <td>More natural ingredients</td>\n",
       "      <td>Caffeine</td>\n",
       "      <td>Yes</td>\n",
       "      <td>Not Sure</td>\n",
       "      <td>Print media</td>\n",
       "      <td>Compact and portable cans</td>\n",
       "      <td>No</td>\n",
       "      <td>50-99</td>\n",
       "      <td>Supermarkets</td>\n",
       "      <td>Sports/exercise</td>\n",
       "    </tr>\n",
       "  </tbody>\n",
       "</table>\n",
       "<p>2 rows × 27 columns</p>\n",
       "</div>"
      ],
      "text/plain": [
       "   Respondent_ID            Name    Age  Gender City_ID  Response_ID  \\\n",
       "0         120031  Aniruddh Issac  15-18  Female   CT117       103001   \n",
       "1         120032     Trisha Rout  19-30    Male   CT118       103002   \n",
       "\n",
       "   Consume_frequency                     Consume_time  \\\n",
       "0   2-3 times a week  To stay awake during work/study   \n",
       "1  2-3 times a month               Throughout the day   \n",
       "\n",
       "               Consume_reason Heard_before  ...      Improvements_desired  \\\n",
       "0  Increased energy and focus          Yes  ...     Reduced sugar content   \n",
       "1        To boost performance           No  ...  More natural ingredients   \n",
       "\n",
       "  Ingredients_expected Health_concerns  Interest_in_natural_or_organic  \\\n",
       "0              Guarana              No                             Yes   \n",
       "1             Caffeine             Yes                        Not Sure   \n",
       "\n",
       "  Marketing_channels       Packaging_preference Limited_edition_packaging  \\\n",
       "0     TV commercials  Compact and portable cans                       Yes   \n",
       "1        Print media  Compact and portable cans                        No   \n",
       "\n",
       "  Price_range Purchase_location Typical_consumption_situations  \n",
       "0       50-99      Supermarkets          Studying/working late  \n",
       "1       50-99      Supermarkets                Sports/exercise  \n",
       "\n",
       "[2 rows x 27 columns]"
      ]
     },
     "execution_count": 10,
     "metadata": {},
     "output_type": "execute_result"
    }
   ],
   "source": [
    "df4.head(2)"
   ]
  },
  {
   "cell_type": "code",
   "execution_count": 11,
   "id": "2ae1995f",
   "metadata": {},
   "outputs": [],
   "source": [
    "# lets merge df3 and df4 on the basis of common column \"City_ID\"\n",
    "df=pd.merge(df4, df3, on = 'City_ID')\n"
   ]
  },
  {
   "cell_type": "markdown",
   "id": "dc3bc626",
   "metadata": {},
   "source": [
    "### this is our final dataset for analysis"
   ]
  },
  {
   "cell_type": "code",
   "execution_count": 12,
   "id": "681319a3",
   "metadata": {},
   "outputs": [
    {
     "data": {
      "text/html": [
       "<div>\n",
       "<style scoped>\n",
       "    .dataframe tbody tr th:only-of-type {\n",
       "        vertical-align: middle;\n",
       "    }\n",
       "\n",
       "    .dataframe tbody tr th {\n",
       "        vertical-align: top;\n",
       "    }\n",
       "\n",
       "    .dataframe thead th {\n",
       "        text-align: right;\n",
       "    }\n",
       "</style>\n",
       "<table border=\"1\" class=\"dataframe\">\n",
       "  <thead>\n",
       "    <tr style=\"text-align: right;\">\n",
       "      <th></th>\n",
       "      <th>Respondent_ID</th>\n",
       "      <th>Name</th>\n",
       "      <th>Age</th>\n",
       "      <th>Gender</th>\n",
       "      <th>City_ID</th>\n",
       "      <th>Response_ID</th>\n",
       "      <th>Consume_frequency</th>\n",
       "      <th>Consume_time</th>\n",
       "      <th>Consume_reason</th>\n",
       "      <th>Heard_before</th>\n",
       "      <th>...</th>\n",
       "      <th>Health_concerns</th>\n",
       "      <th>Interest_in_natural_or_organic</th>\n",
       "      <th>Marketing_channels</th>\n",
       "      <th>Packaging_preference</th>\n",
       "      <th>Limited_edition_packaging</th>\n",
       "      <th>Price_range</th>\n",
       "      <th>Purchase_location</th>\n",
       "      <th>Typical_consumption_situations</th>\n",
       "      <th>City</th>\n",
       "      <th>Tier</th>\n",
       "    </tr>\n",
       "  </thead>\n",
       "  <tbody>\n",
       "    <tr>\n",
       "      <th>0</th>\n",
       "      <td>120031</td>\n",
       "      <td>Aniruddh Issac</td>\n",
       "      <td>15-18</td>\n",
       "      <td>Female</td>\n",
       "      <td>CT117</td>\n",
       "      <td>103001</td>\n",
       "      <td>2-3 times a week</td>\n",
       "      <td>To stay awake during work/study</td>\n",
       "      <td>Increased energy and focus</td>\n",
       "      <td>Yes</td>\n",
       "      <td>...</td>\n",
       "      <td>No</td>\n",
       "      <td>Yes</td>\n",
       "      <td>TV commercials</td>\n",
       "      <td>Compact and portable cans</td>\n",
       "      <td>Yes</td>\n",
       "      <td>50-99</td>\n",
       "      <td>Supermarkets</td>\n",
       "      <td>Studying/working late</td>\n",
       "      <td>Ahmedabad</td>\n",
       "      <td>Tier 2</td>\n",
       "    </tr>\n",
       "    <tr>\n",
       "      <th>1</th>\n",
       "      <td>120055</td>\n",
       "      <td>Umang Sarkar</td>\n",
       "      <td>31-45</td>\n",
       "      <td>Non-binary</td>\n",
       "      <td>CT117</td>\n",
       "      <td>103025</td>\n",
       "      <td>Once a week</td>\n",
       "      <td>Before exercise</td>\n",
       "      <td>To enhance sports performance</td>\n",
       "      <td>Yes</td>\n",
       "      <td>...</td>\n",
       "      <td>No</td>\n",
       "      <td>No</td>\n",
       "      <td>Outdoor billboards</td>\n",
       "      <td>Eco-friendly design</td>\n",
       "      <td>No</td>\n",
       "      <td>Above 150</td>\n",
       "      <td>Gyms and fitness centers</td>\n",
       "      <td>Studying/working late</td>\n",
       "      <td>Ahmedabad</td>\n",
       "      <td>Tier 2</td>\n",
       "    </tr>\n",
       "  </tbody>\n",
       "</table>\n",
       "<p>2 rows × 29 columns</p>\n",
       "</div>"
      ],
      "text/plain": [
       "   Respondent_ID            Name    Age      Gender City_ID  Response_ID  \\\n",
       "0         120031  Aniruddh Issac  15-18      Female   CT117       103001   \n",
       "1         120055    Umang Sarkar  31-45  Non-binary   CT117       103025   \n",
       "\n",
       "  Consume_frequency                     Consume_time  \\\n",
       "0  2-3 times a week  To stay awake during work/study   \n",
       "1       Once a week                  Before exercise   \n",
       "\n",
       "                  Consume_reason Heard_before  ... Health_concerns  \\\n",
       "0     Increased energy and focus          Yes  ...              No   \n",
       "1  To enhance sports performance          Yes  ...              No   \n",
       "\n",
       "  Interest_in_natural_or_organic  Marketing_channels  \\\n",
       "0                            Yes      TV commercials   \n",
       "1                             No  Outdoor billboards   \n",
       "\n",
       "        Packaging_preference Limited_edition_packaging Price_range  \\\n",
       "0  Compact and portable cans                       Yes       50-99   \n",
       "1        Eco-friendly design                        No   Above 150   \n",
       "\n",
       "          Purchase_location Typical_consumption_situations       City    Tier  \n",
       "0              Supermarkets          Studying/working late  Ahmedabad  Tier 2  \n",
       "1  Gyms and fitness centers          Studying/working late  Ahmedabad  Tier 2  \n",
       "\n",
       "[2 rows x 29 columns]"
      ]
     },
     "execution_count": 12,
     "metadata": {},
     "output_type": "execute_result"
    }
   ],
   "source": [
    "df.head(2)"
   ]
  },
  {
   "cell_type": "code",
   "execution_count": 13,
   "id": "ff09e613",
   "metadata": {},
   "outputs": [],
   "source": [
    "# lets remove the column which are not needed\n",
    "df.drop([\"Name\",\"Respondent_ID\"],axis=1,inplace=True)"
   ]
  },
  {
   "cell_type": "code",
   "execution_count": 14,
   "id": "cd79b059",
   "metadata": {},
   "outputs": [
    {
     "name": "stdout",
     "output_type": "stream",
     "text": [
      "<class 'pandas.core.frame.DataFrame'>\n",
      "Int64Index: 10000 entries, 0 to 9999\n",
      "Data columns (total 27 columns):\n",
      " #   Column                          Non-Null Count  Dtype \n",
      "---  ------                          --------------  ----- \n",
      " 0   Age                             10000 non-null  object\n",
      " 1   Gender                          10000 non-null  object\n",
      " 2   City_ID                         10000 non-null  object\n",
      " 3   Response_ID                     10000 non-null  int64 \n",
      " 4   Consume_frequency               10000 non-null  object\n",
      " 5   Consume_time                    10000 non-null  object\n",
      " 6   Consume_reason                  10000 non-null  object\n",
      " 7   Heard_before                    10000 non-null  object\n",
      " 8   Brand_perception                10000 non-null  object\n",
      " 9   General_perception              10000 non-null  object\n",
      " 10  Tried_before                    10000 non-null  object\n",
      " 11  Taste_experience                10000 non-null  int64 \n",
      " 12  Reasons_preventing_trying       10000 non-null  object\n",
      " 13  Current_brands                  10000 non-null  object\n",
      " 14  Reasons_for_choosing_brands     10000 non-null  object\n",
      " 15  Improvements_desired            10000 non-null  object\n",
      " 16  Ingredients_expected            10000 non-null  object\n",
      " 17  Health_concerns                 10000 non-null  object\n",
      " 18  Interest_in_natural_or_organic  10000 non-null  object\n",
      " 19  Marketing_channels              10000 non-null  object\n",
      " 20  Packaging_preference            10000 non-null  object\n",
      " 21  Limited_edition_packaging       10000 non-null  object\n",
      " 22  Price_range                     10000 non-null  object\n",
      " 23  Purchase_location               10000 non-null  object\n",
      " 24  Typical_consumption_situations  10000 non-null  object\n",
      " 25  City                            10000 non-null  object\n",
      " 26  Tier                            10000 non-null  object\n",
      "dtypes: int64(2), object(25)\n",
      "memory usage: 2.1+ MB\n"
     ]
    }
   ],
   "source": [
    "df.info()\n",
    "# this dataset is having 10k rows and 27 columns"
   ]
  },
  {
   "cell_type": "markdown",
   "id": "8fea3899",
   "metadata": {},
   "source": [
    "# Exploratory Data Analysis"
   ]
  },
  {
   "cell_type": "markdown",
   "id": "11eb5208",
   "metadata": {},
   "source": [
    "### 1. Demographic Insights "
   ]
  },
  {
   "cell_type": "markdown",
   "id": "153ae854",
   "metadata": {},
   "source": [
    "a. Who prefers energy drink more? (male/female/non-binary?)\n",
    "\n",
    "b. Which age group prefers energy drink more?\n",
    "\n",
    "c. Which type of marketing reaches the most Youth (15-30)?"
   ]
  },
  {
   "cell_type": "markdown",
   "id": "9dd73e0e",
   "metadata": {},
   "source": [
    "1-a. Who prefers energy drink more? (male/female/non-binary?)"
   ]
  },
  {
   "cell_type": "code",
   "execution_count": 15,
   "id": "2a411f5e",
   "metadata": {},
   "outputs": [],
   "source": [
    "pallete=['red','green','cyan','blue','yellow','salmon','orange']"
   ]
  },
  {
   "cell_type": "code",
   "execution_count": 16,
   "id": "1230b901-c0f7-43ae-a6da-98ac36009408",
   "metadata": {},
   "outputs": [],
   "source": [
    "df_gen=(df[\"Gender\"].value_counts()/100).sort_values(ascending=True).to_frame().reset_index().rename(columns={'index':'gender','Gender':'Percentage'})"
   ]
  },
  {
   "cell_type": "code",
   "execution_count": null,
   "id": "25428279-4e64-4244-918e-c1659a553749",
   "metadata": {},
   "outputs": [],
   "source": []
  },
  {
   "cell_type": "code",
   "execution_count": 17,
   "id": "57e9d432",
   "metadata": {},
   "outputs": [
    {
     "data": {
      "text/plain": [
       "[Text(0, 0, '5.07'), Text(0, 0, '34.55'), Text(0, 0, '60.38')]"
      ]
     },
     "execution_count": 17,
     "metadata": {},
     "output_type": "execute_result"
    },
    {
     "data": {
      "image/png": "[encoded data removed]",
      "text/plain": [
       "<Figure size 288x288 with 1 Axes>"
      ]
     },
     "metadata": {
      "needs_background": "light"
     },
     "output_type": "display_data"
    }
   ],
   "source": [
    "plt.figure(figsize=(4, 4))\n",
    "plt.xlabel('Gender')\n",
    "plt.ylabel('percentage_in_total')\n",
    "fig=(df[\"Gender\"].value_counts()/100).sort_values(ascending=True).plot.bar(color=pallete)\n",
    "# plt.bar_label()\n",
    "plt.bar_label(fig.containers[0])"
   ]
  },
  {
   "cell_type": "code",
   "execution_count": 18,
   "id": "5f1c2d69",
   "metadata": {},
   "outputs": [
    {
     "data": {
      "text/plain": [
       "Male          60.38\n",
       "Female        34.55\n",
       "Non-binary     5.07\n",
       "Name: Gender, dtype: float64"
      ]
     },
     "execution_count": 18,
     "metadata": {},
     "output_type": "execute_result"
    }
   ],
   "source": [
    "df[\"Gender\"].value_counts()/100"
   ]
  },
  {
   "cell_type": "markdown",
   "id": "1b94881d",
   "metadata": {},
   "source": [
    "### conclusion -Males prefer energy drink most with higest percentage which is 60.38% while women taking place with around 35% "
   ]
  },
  {
   "cell_type": "code",
   "execution_count": null,
   "id": "c49c3aef",
   "metadata": {},
   "outputs": [],
   "source": []
  },
  {
   "cell_type": "code",
   "execution_count": null,
   "id": "813b831e",
   "metadata": {},
   "outputs": [],
   "source": []
  },
  {
   "cell_type": "markdown",
   "id": "7a35bba4",
   "metadata": {},
   "source": [
    "1-b. Which age group prefers energy drink more?"
   ]
  },
  {
   "cell_type": "code",
   "execution_count": 19,
   "id": "801e210b",
   "metadata": {},
   "outputs": [
    {
     "data": {
      "text/plain": [
       "Text(0.5, 0, 'percentage_in_total')"
      ]
     },
     "execution_count": 19,
     "metadata": {},
     "output_type": "execute_result"
    },
    {
     "data": {
      "image/png": "[encoded data removed]",
      "text/plain": [
       "<Figure size 576x288 with 1 Axes>"
      ]
     },
     "metadata": {
      "needs_background": "light"
     },
     "output_type": "display_data"
    }
   ],
   "source": [
    "plt.figure(figsize=(8, 4))\n",
    "plt.ylabel('Age_group')\n",
    "plt.xlabel('percentage_in_total')\n",
    "fig=(df[\"Age\"].value_counts()/100).sort_values(ascending=True).plot.barh(color=pallete)\n",
    "plt.bar_label(fig.containers[0])\n",
    "plt.xlabel('percentage_in_total')"
   ]
  },
  {
   "cell_type": "markdown",
   "id": "81ffc73d",
   "metadata": {},
   "source": [
    "### conclusion- Age group 19-30 prefers energy drink most taking lead place with around 55% while around 39% customers belong to 15-18 and 31-45 age group so you can not ignore this fact as well"
   ]
  },
  {
   "cell_type": "code",
   "execution_count": 20,
   "id": "903438f8",
   "metadata": {},
   "outputs": [
    {
     "data": {
      "text/plain": [
       "19-30    55.0\n",
       "31-45    24.0\n",
       "15-18    15.0\n",
       "46-65     4.0\n",
       "65+       2.0\n",
       "Name: Age, dtype: float64"
      ]
     },
     "execution_count": 20,
     "metadata": {},
     "output_type": "execute_result"
    }
   ],
   "source": [
    "round(df[\"Age\"].value_counts()/100)"
   ]
  },
  {
   "cell_type": "code",
   "execution_count": null,
   "id": "0972fdbc",
   "metadata": {},
   "outputs": [],
   "source": []
  },
  {
   "cell_type": "code",
   "execution_count": null,
   "id": "08e97088",
   "metadata": {},
   "outputs": [],
   "source": []
  },
  {
   "cell_type": "markdown",
   "id": "f35c06b7",
   "metadata": {},
   "source": [
    "1-c. Which type of marketing reaches the most Youth (15-30)?"
   ]
  },
  {
   "cell_type": "code",
   "execution_count": 21,
   "id": "a584daa5",
   "metadata": {},
   "outputs": [
    {
     "data": {
      "text/plain": [
       "(7008, 27)"
      ]
     },
     "execution_count": 21,
     "metadata": {},
     "output_type": "execute_result"
    }
   ],
   "source": [
    "df[(df[\"Age\"]==\"15-18\") | (df[\"Age\"]==\"19-30\")].shape"
   ]
  },
  {
   "cell_type": "code",
   "execution_count": 22,
   "id": "018d41ea",
   "metadata": {},
   "outputs": [
    {
     "data": {
      "text/plain": [
       "Online ads            48.0\n",
       "TV commercials        25.0\n",
       "Outdoor billboards    10.0\n",
       "Other                 10.0\n",
       "Print media            6.0\n",
       "Name: Marketing_channels, dtype: float64"
      ]
     },
     "execution_count": 22,
     "metadata": {},
     "output_type": "execute_result"
    }
   ],
   "source": [
    "round(df[(df[\"Age\"]==\"15-18\") | (df[\"Age\"]==\"19-30\")][\"Marketing_channels\"].value_counts()/70.08)"
   ]
  },
  {
   "cell_type": "code",
   "execution_count": 23,
   "id": "90347fe4",
   "metadata": {},
   "outputs": [
    {
     "data": {
      "text/plain": [
       "[Text(0, 0, '6.4'),\n",
       " Text(0, 0, '10.0'),\n",
       " Text(0, 0, '10.0'),\n",
       " Text(0, 0, '25.5'),\n",
       " Text(0, 0, '48.1')]"
      ]
     },
     "execution_count": 23,
     "metadata": {},
     "output_type": "execute_result"
    },
    {
     "data": {
      "image/png": "[encoded data removed]",
      "text/plain": [
       "<Figure size 576x288 with 1 Axes>"
      ]
     },
     "metadata": {
      "needs_background": "light"
     },
     "output_type": "display_data"
    }
   ],
   "source": [
    "plt.figure(figsize=(8, 4))\n",
    "fig=(df[(df[\"Age\"]==\"15-18\") | (df[\"Age\"]==\"19-30\")][\"Marketing_channels\"].value_counts()/70.08).sort_values(ascending=True).plot.barh(color=pallete)\n",
    "plt.bar_label(fig.containers[0],fmt='%.1f')\n",
    "#plt.xlabel('Marketing_channels')"
   ]
  },
  {
   "cell_type": "markdown",
   "id": "43a0cfc9",
   "metadata": {},
   "source": [
    "### conclusion- For age group 15-30 ,Online ads have taken first place with 48% while though TV commercials also around 25% young people are watching ads after that Outdoor billboards taking place with  10% "
   ]
  },
  {
   "cell_type": "code",
   "execution_count": null,
   "id": "98581752",
   "metadata": {},
   "outputs": [],
   "source": []
  },
  {
   "cell_type": "markdown",
   "id": "7986a759",
   "metadata": {},
   "source": [
    "## Consumer Preferences"
   ]
  },
  {
   "cell_type": "markdown",
   "id": "274624be",
   "metadata": {},
   "source": [
    "a. What are the preferred ingredients of energy drinks among respondents?\n",
    "\n",
    "b. What packaging preferences do respondents have for energy drinks?"
   ]
  },
  {
   "cell_type": "code",
   "execution_count": null,
   "id": "18c7dc30",
   "metadata": {},
   "outputs": [],
   "source": []
  },
  {
   "cell_type": "markdown",
   "id": "407d0866",
   "metadata": {},
   "source": [
    "2-a. What are the preferred ingredients of energy drinks among respondents?"
   ]
  },
  {
   "cell_type": "code",
   "execution_count": 24,
   "id": "915db8f9",
   "metadata": {},
   "outputs": [
    {
     "data": {
      "text/plain": [
       "[Text(0, 0, '15.5'),\n",
       " Text(0, 0, '20.2'),\n",
       " Text(0, 0, '25.3'),\n",
       " Text(0, 0, '39.0')]"
      ]
     },
     "execution_count": 24,
     "metadata": {},
     "output_type": "execute_result"
    },
    {
     "data": {
      "image/png": "[encoded data removed]",
      "text/plain": [
       "<Figure size 432x288 with 1 Axes>"
      ]
     },
     "metadata": {
      "needs_background": "light"
     },
     "output_type": "display_data"
    }
   ],
   "source": [
    "fig=(df[\"Ingredients_expected\"].value_counts()/100).sort_values(ascending=True).plot.barh(color=pallete)\n",
    "plt.bar_label(fig.containers[0],fmt='%.1f')"
   ]
  },
  {
   "cell_type": "markdown",
   "id": "cad4a6c1",
   "metadata": {},
   "source": [
    "### conclusion-- Among 10k respondents 39% are expecting caffeine ,25% Vitamines while Sugar and Gurana haing 3rd and 4th place with 20% and 16% ."
   ]
  },
  {
   "cell_type": "code",
   "execution_count": 25,
   "id": "a255f848",
   "metadata": {},
   "outputs": [
    {
     "data": {
      "text/plain": [
       "Caffeine    38.96\n",
       "Vitamins    25.34\n",
       "Sugar       20.17\n",
       "Guarana     15.53\n",
       "Name: Ingredients_expected, dtype: float64"
      ]
     },
     "execution_count": 25,
     "metadata": {},
     "output_type": "execute_result"
    }
   ],
   "source": [
    "(df[\"Ingredients_expected\"].value_counts()/100)"
   ]
  },
  {
   "cell_type": "code",
   "execution_count": null,
   "id": "939ff0d8",
   "metadata": {},
   "outputs": [],
   "source": []
  },
  {
   "cell_type": "code",
   "execution_count": 26,
   "id": "86862434",
   "metadata": {},
   "outputs": [],
   "source": [
    "# I tried to see the relationship between age group and ingredients expected but there is no \n",
    "# correlation between them \n",
    "# df[(df[\"Age\"]==\"19-30\")][\"Ingredients_expected\"].value_counts()/55.20 \n",
    "#do the same for other age groups as well"
   ]
  },
  {
   "cell_type": "markdown",
   "id": "af21977e",
   "metadata": {},
   "source": [
    "2-b. What packaging preferences do respondents have for energy drinks?"
   ]
  },
  {
   "cell_type": "code",
   "execution_count": 27,
   "id": "addbad47",
   "metadata": {},
   "outputs": [],
   "source": [
    "data=(df[\"Packaging_preference\"].value_counts()/100)"
   ]
  },
  {
   "cell_type": "code",
   "execution_count": 28,
   "id": "61ea3e88",
   "metadata": {},
   "outputs": [
    {
     "data": {
      "text/plain": [
       "[Text(0, 0, '4.8'),\n",
       " Text(0, 0, '9.8'),\n",
       " Text(0, 0, '15.0'),\n",
       " Text(0, 0, '30.5'),\n",
       " Text(0, 0, '39.8')]"
      ]
     },
     "execution_count": 28,
     "metadata": {},
     "output_type": "execute_result"
    },
    {
     "data": {
      "image/png": "[encoded data removed]",
      "text/plain": [
       "<Figure size 576x432 with 1 Axes>"
      ]
     },
     "metadata": {
      "needs_background": "light"
     },
     "output_type": "display_data"
    }
   ],
   "source": [
    "plt.figure(figsize=(8,6))\n",
    "fig=data.sort_values(ascending=True).plot.barh(color=pallete)\n",
    "plt.bar_label(fig.containers[0],fmt='%.1f')"
   ]
  },
  {
   "cell_type": "markdown",
   "id": "92807c80",
   "metadata": {},
   "source": [
    "### conclusion- Among 10k respondents 40% people are using 'Compact and portable cans' and 30% 'Innovative bottle design'  while 'Collectible packaging 'and 'Eco-friendly design' are taking 3rd and 4th place with 15% and 10%"
   ]
  },
  {
   "cell_type": "code",
   "execution_count": null,
   "id": "3f565a8f",
   "metadata": {},
   "outputs": [],
   "source": []
  },
  {
   "cell_type": "markdown",
   "id": "0754481c",
   "metadata": {},
   "source": [
    "## 3. Competition Analysis:"
   ]
  },
  {
   "cell_type": "markdown",
   "id": "54e509e3",
   "metadata": {},
   "source": [
    "a. Who are the current market leaders?\n",
    "\n",
    "b. What are the primary reasons consumers prefer those brands over ours?"
   ]
  },
  {
   "cell_type": "code",
   "execution_count": null,
   "id": "0b14ddb0",
   "metadata": {},
   "outputs": [],
   "source": []
  },
  {
   "cell_type": "markdown",
   "id": "5ba76aea",
   "metadata": {},
   "source": [
    "3-a. Who are the current market leaders?"
   ]
  },
  {
   "cell_type": "code",
   "execution_count": 29,
   "id": "b2298e73",
   "metadata": {},
   "outputs": [
    {
     "data": {
      "text/plain": [
       "[Text(0, 0, '4.8'),\n",
       " Text(0, 0, '9.8'),\n",
       " Text(0, 0, '9.8'),\n",
       " Text(0, 0, '10.6'),\n",
       " Text(0, 0, '18.5'),\n",
       " Text(0, 0, '21.1'),\n",
       " Text(0, 0, '25.4')]"
      ]
     },
     "execution_count": 29,
     "metadata": {},
     "output_type": "execute_result"
    },
    {
     "data": {
      "image/png": "[encoded data removed]",
      "text/plain": [
       "<Figure size 576x288 with 1 Axes>"
      ]
     },
     "metadata": {
      "needs_background": "light"
     },
     "output_type": "display_data"
    }
   ],
   "source": [
    "fig=(df[\"Current_brands\"].value_counts()/100).sort_values(ascending=True).plot.barh(color=pallete,figsize=(8,4))\n",
    "plt.bar_label(fig.containers[0],fmt='%.1f')"
   ]
  },
  {
   "cell_type": "code",
   "execution_count": 30,
   "id": "d0346d79",
   "metadata": {},
   "outputs": [
    {
     "data": {
      "text/plain": [
       "Cola-Coka    25.38\n",
       "Bepsi        21.12\n",
       "Gangster     18.54\n",
       "Blue Bull    10.58\n",
       "CodeX         9.80\n",
       "Sky 9         9.79\n",
       "Others        4.79\n",
       "Name: Current_brands, dtype: float64"
      ]
     },
     "execution_count": 30,
     "metadata": {},
     "output_type": "execute_result"
    }
   ],
   "source": [
    "df[\"Current_brands\"].value_counts()/100"
   ]
  },
  {
   "cell_type": "markdown",
   "id": "65d75a19",
   "metadata": {},
   "source": [
    "### Conclusion--Cola-Coka is on the top with 25.38% and Bepsi on the second place with 21% ,Gangster ,'Blue Bull',\"Codex\" are taking 3rd, 4th,5th place with 19%,11% and 10% respectively"
   ]
  },
  {
   "cell_type": "markdown",
   "id": "fbe6fa4e",
   "metadata": {},
   "source": [
    "## CodeX and 'Sky 9' is having almost same percentage of customers which is 9.8% "
   ]
  },
  {
   "cell_type": "code",
   "execution_count": null,
   "id": "296d1bc6",
   "metadata": {},
   "outputs": [],
   "source": []
  },
  {
   "cell_type": "code",
   "execution_count": null,
   "id": "b9d4df96",
   "metadata": {},
   "outputs": [],
   "source": []
  },
  {
   "cell_type": "markdown",
   "id": "467d988d",
   "metadata": {},
   "source": [
    "3-b. What are the primary reasons consumers prefer those brands over ours"
   ]
  },
  {
   "cell_type": "code",
   "execution_count": 69,
   "id": "ec66d77e",
   "metadata": {},
   "outputs": [],
   "source": [
    "x=round(df[df[\"Current_brands\"]!=\"CodeX\"][\"Reasons_for_choosing_brands\"].value_counts()/90.20,1)"
   ]
  },
  {
   "cell_type": "code",
   "execution_count": 70,
   "id": "4c9ffc00",
   "metadata": {},
   "outputs": [
    {
     "data": {
      "text/plain": [
       "Brand reputation           26.5\n",
       "Taste/flavor preference    20.3\n",
       "Availability               19.0\n",
       "Effectiveness              17.4\n",
       "Other                      16.8\n",
       "Name: Reasons_for_choosing_brands, dtype: float64"
      ]
     },
     "execution_count": 70,
     "metadata": {},
     "output_type": "execute_result"
    }
   ],
   "source": [
    "x"
   ]
  },
  {
   "cell_type": "code",
   "execution_count": 71,
   "id": "8f7765df",
   "metadata": {},
   "outputs": [
    {
     "data": {
      "text/plain": [
       "[Text(0, 0, '16.8'),\n",
       " Text(0, 0, '17.4'),\n",
       " Text(0, 0, '19.0'),\n",
       " Text(0, 0, '20.3'),\n",
       " Text(0, 0, '26.5')]"
      ]
     },
     "execution_count": 71,
     "metadata": {},
     "output_type": "execute_result"
    },
    {
     "data": {
      "image/png": "[encoded data removed]",
      "text/plain": [
       "<Figure size 648x216 with 1 Axes>"
      ]
     },
     "metadata": {
      "needs_background": "light"
     },
     "output_type": "display_data"
    }
   ],
   "source": [
    "fig=x.sort_values(ascending=True).plot.barh(color=pallete,figsize=(9,3))\n",
    "plt.bar_label(fig.containers[0],fmt='%.1f')"
   ]
  },
  {
   "cell_type": "markdown",
   "id": "efb3c0b5",
   "metadata": {},
   "source": [
    "## Around 27% are choosing brand just because of 'Brand Reputation'  and 20% are preferring beacause of 'taste/flavour'  and 19% are taking because of 'availability' and 17% because of enery drink \"effectiveness\""
   ]
  },
  {
   "cell_type": "markdown",
   "id": "0d50bac6",
   "metadata": {},
   "source": [
    "conclusion- As the data is showing that all these above reasons for choosing other brands over  CODEX are contributing almost with the same importance . so we must focus on each category of reason for chosing other brands equally ,like on the first place brand reputation is on the first place with 27 percentage of people, the reason is\n",
    "1-Brands save decision making time\n",
    "2-Brands provids safety\n",
    "3-Brand adds value\n",
    "4-Strong Brands give consumers a reason to share their experience. and so on \n",
    "so it becomes very important to creat a brand "
   ]
  },
  {
   "cell_type": "code",
   "execution_count": 34,
   "id": "5c371119",
   "metadata": {},
   "outputs": [],
   "source": [
    "#round(df[df[\"Current_brands\"]==\"CodeX\"][\"Reasons_for_choosing_brands\"].value_counts()/9.81)"
   ]
  },
  {
   "cell_type": "code",
   "execution_count": null,
   "id": "7bb6ab8d",
   "metadata": {},
   "outputs": [],
   "source": []
  },
  {
   "cell_type": "markdown",
   "id": "8e6d974c",
   "metadata": {},
   "source": [
    "## 4.Marketing Channels and Brand Awareness\n",
    "\n",
    "a. Which marketing channel can be used to reach more customers?\n",
    "\n",
    "b. How effective are different marketing strategies and channels in reaching our customers?"
   ]
  },
  {
   "cell_type": "code",
   "execution_count": null,
   "id": "6cbb0e2e",
   "metadata": {},
   "outputs": [],
   "source": []
  },
  {
   "cell_type": "markdown",
   "id": "6a9bb89d",
   "metadata": {},
   "source": [
    "4-a. Which marketing channel can be used to reach more customers?"
   ]
  },
  {
   "cell_type": "markdown",
   "id": "edbac5e1",
   "metadata": {},
   "source": [
    "## 1-overall marketing channels"
   ]
  },
  {
   "cell_type": "code",
   "execution_count": 35,
   "id": "9dfdd889",
   "metadata": {},
   "outputs": [
    {
     "data": {
      "text/plain": [
       "<AxesSubplot:ylabel='Marketing_channels'>"
      ]
     },
     "execution_count": 35,
     "metadata": {},
     "output_type": "execute_result"
    },
    {
     "data": {
      "image/png": "[encoded data removed]",
      "text/plain": [
       "<Figure size 576x432 with 1 Axes>"
      ]
     },
     "metadata": {},
     "output_type": "display_data"
    }
   ],
   "source": [
    "plt.figure(figsize=(8,6))\n",
    "df[\"Marketing_channels\"].value_counts().plot(kind=\"pie\",autopct='%1.1f%%',shadow=True)"
   ]
  },
  {
   "cell_type": "markdown",
   "id": "fb08c28b",
   "metadata": {},
   "source": [
    "## 2-for young population"
   ]
  },
  {
   "cell_type": "code",
   "execution_count": 36,
   "id": "16cec605",
   "metadata": {},
   "outputs": [
    {
     "data": {
      "image/png": "[encoded data removed]",
      "text/plain": [
       "<Figure size 432x288 with 1 Axes>"
      ]
     },
     "metadata": {},
     "output_type": "display_data"
    }
   ],
   "source": [
    "young =(df[df[\"Age\"]==\"19-30\"][\"Marketing_channels\"].value_counts()/55.20)\n",
    "\n",
    "# Create a figure and axis\n",
    "fig, ax = plt.subplots()\n",
    "\n",
    "# Plot the pie chart\n",
    "young.plot(kind='pie', ax=ax, autopct='%1.1f%%')\n",
    "\n",
    "# Set aspect ratio to make the pie circular\n",
    "ax.axis('equal')\n",
    "\n",
    "# Set title\n",
    "\n",
    "\n",
    "# Show the chart\n",
    "plt.tight_layout()\n",
    "#ax.set_title('for 19-30 Age group')\n",
    "plt.show()"
   ]
  },
  {
   "cell_type": "markdown",
   "id": "e3e5a8eb",
   "metadata": {},
   "source": [
    "# other people"
   ]
  },
  {
   "cell_type": "code",
   "execution_count": 37,
   "id": "30292fa6",
   "metadata": {},
   "outputs": [
    {
     "data": {
      "image/png": "[encoded data removed]",
      "text/plain": [
       "<Figure size 432x288 with 1 Axes>"
      ]
     },
     "metadata": {},
     "output_type": "display_data"
    }
   ],
   "source": [
    "other =(df[df[\"Age\"]!=\"19-30\"][\"Marketing_channels\"].value_counts()/44.80)\n",
    "\n",
    "# Create a figure and axis\n",
    "fig, ax = plt.subplots()\n",
    "\n",
    "# Plot the pie chart\n",
    "other.plot(kind='pie', ax=ax, autopct='%1.1f%%')\n",
    "\n",
    "# Set aspect ratio to make the pie circular\n",
    "ax.axis('equal')\n",
    "\n",
    "# Set title\n",
    "\n",
    "\n",
    "# Show the chart\n",
    "plt.tight_layout()\n",
    "#ax.set_title('for 19-30 Age group')\n",
    "plt.show()"
   ]
  },
  {
   "cell_type": "code",
   "execution_count": 38,
   "id": "61480a1a",
   "metadata": {},
   "outputs": [
    {
     "data": {
      "text/plain": [
       "19-30    55.20\n",
       "31-45    23.76\n",
       "15-18    14.88\n",
       "46-65     4.26\n",
       "65+       1.90\n",
       "Name: Age, dtype: float64"
      ]
     },
     "execution_count": 38,
     "metadata": {},
     "output_type": "execute_result"
    }
   ],
   "source": [
    "df[\"Age\"].value_counts()/100"
   ]
  },
  {
   "cell_type": "markdown",
   "id": "fbd9f2ef",
   "metadata": {},
   "source": [
    "48% people are preferring online ads in the age of 19-30 because youth is active on social media but on the other hand you can not ignore the fact that our remaining audience are seeing the production throught \"TV commercials\" as well in a good number.so you have to keep it in mind that while planning marketing don't ignore the \"TV commercials\" ."
   ]
  },
  {
   "cell_type": "code",
   "execution_count": null,
   "id": "390a9bb3",
   "metadata": {},
   "outputs": [],
   "source": []
  },
  {
   "cell_type": "markdown",
   "id": "94052ce7",
   "metadata": {},
   "source": [
    "4-b. How effective are different marketing strategies and channels in reaching our customers?"
   ]
  },
  {
   "cell_type": "code",
   "execution_count": 39,
   "id": "261eed4b",
   "metadata": {},
   "outputs": [],
   "source": [
    "#round(df[df[\"Tried_before\"]==\"Yes\"][\"Marketing_channels\"].value_counts()/48.81)"
   ]
  },
  {
   "cell_type": "code",
   "execution_count": 40,
   "id": "bf30b2d8",
   "metadata": {},
   "outputs": [
    {
     "data": {
      "text/plain": [
       "Online ads            42.0\n",
       "TV commercials        27.0\n",
       "Outdoor billboards    12.0\n",
       "Other                 12.0\n",
       "Print media            7.0\n",
       "Name: Marketing_channels, dtype: float64"
      ]
     },
     "execution_count": 40,
     "metadata": {},
     "output_type": "execute_result"
    }
   ],
   "source": [
    "round(df[df[\"Current_brands\"]==\"CodeX\"][\"Marketing_channels\"].value_counts()/9.80)"
   ]
  },
  {
   "cell_type": "code",
   "execution_count": 41,
   "id": "97f151b2",
   "metadata": {},
   "outputs": [
    {
     "data": {
      "text/plain": [
       "[Text(0, 0, '7.4'),\n",
       " Text(0, 0, '11.8'),\n",
       " Text(0, 0, '12.1'),\n",
       " Text(0, 0, '26.6'),\n",
       " Text(0, 0, '41.9')]"
      ]
     },
     "execution_count": 41,
     "metadata": {},
     "output_type": "execute_result"
    },
    {
     "data": {
      "image/png": "[encoded data removed]",
      "text/plain": [
       "<Figure size 216x216 with 1 Axes>"
      ]
     },
     "metadata": {
      "needs_background": "light"
     },
     "output_type": "display_data"
    }
   ],
   "source": [
    "\n",
    "fig=(df[df[\"Current_brands\"]==\"CodeX\"][\"Marketing_channels\"].value_counts()/9.80).sort_values(ascending=True).plot.barh(color=pallete,figsize=(3,3))\n",
    "plt.bar_label(fig.containers[0],fmt='%.1f')"
   ]
  },
  {
   "cell_type": "markdown",
   "id": "8514f42e",
   "metadata": {},
   "source": [
    "out of 980 custumers who has codex as their favourite brand,around 42% of them got to know through\n",
    "online ads and around 27% through tv commercials"
   ]
  },
  {
   "cell_type": "markdown",
   "id": "d3e6e2c5",
   "metadata": {},
   "source": [
    "## 5-Brand Penetration\n",
    "a. What do people think about our brand? (overall rating)\n",
    "\n",
    "b. Which cities do we need to focus more on?"
   ]
  },
  {
   "cell_type": "code",
   "execution_count": null,
   "id": "12f38195",
   "metadata": {},
   "outputs": [],
   "source": []
  },
  {
   "cell_type": "markdown",
   "id": "3edd87d8",
   "metadata": {},
   "source": [
    "a. What do people think about our brand? (overall rating)"
   ]
  },
  {
   "cell_type": "code",
   "execution_count": 42,
   "id": "e1030ad6",
   "metadata": {},
   "outputs": [
    {
     "data": {
      "text/plain": [
       "<AxesSubplot:ylabel='Brand_perception'>"
      ]
     },
     "execution_count": 42,
     "metadata": {},
     "output_type": "execute_result"
    },
    {
     "data": {
      "image/png": "[encoded data removed]",
      "text/plain": [
       "<Figure size 432x288 with 1 Axes>"
      ]
     },
     "metadata": {},
     "output_type": "display_data"
    }
   ],
   "source": [
    "((df[\"Brand_perception\"].value_counts()/100)).plot(kind=\"pie\",autopct='%1.2f%%')"
   ]
  },
  {
   "cell_type": "code",
   "execution_count": 43,
   "id": "153450b3",
   "metadata": {},
   "outputs": [
    {
     "data": {
      "text/plain": [
       "Neutral     59.74\n",
       "Positive    22.57\n",
       "Negative    17.69\n",
       "Name: Brand_perception, dtype: float64"
      ]
     },
     "execution_count": 43,
     "metadata": {},
     "output_type": "execute_result"
    }
   ],
   "source": [
    "df[\"Brand_perception\"].value_counts()/100"
   ]
  },
  {
   "cell_type": "markdown",
   "id": "c0939cf2",
   "metadata": {},
   "source": [
    "around 60% people are neutral about the brand and only 23% are feeling positive towards the brand\n",
    "so overall 82% customers are having no hate about the brand but in future we can work on it as 60% people are finding it neutral jbki brand name must be so unique and impressive"
   ]
  },
  {
   "cell_type": "code",
   "execution_count": null,
   "id": "18e7d19b",
   "metadata": {},
   "outputs": [],
   "source": []
  },
  {
   "cell_type": "code",
   "execution_count": null,
   "id": "20e0438a",
   "metadata": {},
   "outputs": [],
   "source": []
  },
  {
   "cell_type": "markdown",
   "id": "971a43e1",
   "metadata": {},
   "source": [
    "b. Which cities do we need to focus more on?\n"
   ]
  },
  {
   "cell_type": "code",
   "execution_count": 44,
   "id": "f94d19a1",
   "metadata": {},
   "outputs": [],
   "source": [
    "data=df.groupby(\"City\")[\"Heard_before\"].value_counts()\n",
    "m=data.rename(\"count\").to_frame().reset_index()\n",
    "df11=m.groupby('City')[\"count\"].sum()\n",
    "t=pd.merge(m,df11,on='City',how='left')\n",
    "t[\"per\"]=np.ceil((t[\"count_x\"]/t['count_y'])*100)\n",
    "t.drop(columns=[\"count_x\",\"count_y\"],inplace=True)"
   ]
  },
  {
   "cell_type": "code",
   "execution_count": 45,
   "id": "7ac82eb0",
   "metadata": {},
   "outputs": [
    {
     "data": {
      "image/png": "[encoded data removed]",
      "text/plain": [
       "<Figure size 576x432 with 1 Axes>"
      ]
     },
     "metadata": {
      "needs_background": "light"
     },
     "output_type": "display_data"
    }
   ],
   "source": [
    "plt.figure(figsize=(8,6))\n",
    "fig=sns.barplot(data=t, y=\"City\", x=\"per\", hue=\"Heard_before\",palette=[\"blue\", \"cyan\"])\n",
    "for container in fig.containers:\n",
    "    fig.bar_label(container)"
   ]
  },
  {
   "cell_type": "code",
   "execution_count": null,
   "id": "99c67ca6",
   "metadata": {},
   "outputs": [],
   "source": []
  },
  {
   "cell_type": "code",
   "execution_count": null,
   "id": "79954b1d",
   "metadata": {},
   "outputs": [],
   "source": []
  },
  {
   "cell_type": "code",
   "execution_count": null,
   "id": "61bb641e",
   "metadata": {},
   "outputs": [],
   "source": []
  },
  {
   "cell_type": "markdown",
   "id": "072737b6",
   "metadata": {},
   "source": [
    "## 6. Purchase Behavior:\n",
    "a. Where do respondents prefer to purchase energy drinks?\n",
    "\n",
    "b. What are the typical consumption situations for energy drinks among \n",
    "respondents?\n",
    "\n",
    "c. What factors influence respondents' purchase decisions, such as price range and \n",
    "limited edition packaging?"
   ]
  },
  {
   "cell_type": "code",
   "execution_count": null,
   "id": "a1f1ae82",
   "metadata": {},
   "outputs": [],
   "source": []
  },
  {
   "cell_type": "markdown",
   "id": "e0731f7f",
   "metadata": {},
   "source": [
    "6-a. Where do respondents prefer to purchase energy drinks?"
   ]
  },
  {
   "cell_type": "code",
   "execution_count": 46,
   "id": "0e96cb84",
   "metadata": {},
   "outputs": [
    {
     "data": {
      "text/plain": [
       "Supermarkets                45.0\n",
       "Online retailers            26.0\n",
       "Gyms and fitness centers    15.0\n",
       "Local stores                 8.0\n",
       "Other                        7.0\n",
       "Name: Purchase_location, dtype: float64"
      ]
     },
     "execution_count": 46,
     "metadata": {},
     "output_type": "execute_result"
    }
   ],
   "source": [
    "round(df[\"Purchase_location\"].value_counts()/100)"
   ]
  },
  {
   "cell_type": "markdown",
   "id": "9061d596",
   "metadata": {},
   "source": [
    " #### supermarkets are on the top place having 45% customers while 26% customers are purchasing through  'Online Retailers'"
   ]
  },
  {
   "cell_type": "code",
   "execution_count": 47,
   "id": "31884743",
   "metadata": {},
   "outputs": [
    {
     "data": {
      "text/plain": [
       "[Text(0, 0, '6.8'),\n",
       " Text(0, 0, '8.1'),\n",
       " Text(0, 0, '14.6'),\n",
       " Text(0, 0, '25.5'),\n",
       " Text(0, 0, '44.9')]"
      ]
     },
     "execution_count": 47,
     "metadata": {},
     "output_type": "execute_result"
    },
    {
     "data": {
      "image/png": "[encoded data removed]",
      "text/plain": [
       "<Figure size 576x288 with 1 Axes>"
      ]
     },
     "metadata": {
      "needs_background": "light"
     },
     "output_type": "display_data"
    }
   ],
   "source": [
    "fig=round((df[\"Purchase_location\"].value_counts()/100).sort_values(ascending=True),1).plot(kind=\"barh\",color=pallete,figsize=(8,4))\n",
    "plt.bar_label(fig.containers[0])"
   ]
  },
  {
   "cell_type": "markdown",
   "id": "981ce5a7",
   "metadata": {},
   "source": [
    "6b. What are the typical consumption situations for energy drinks among respondents?"
   ]
  },
  {
   "cell_type": "code",
   "execution_count": 48,
   "id": "b1b3271f",
   "metadata": {},
   "outputs": [
    {
     "data": {
      "text/plain": [
       "To stay awake during work/study    34.0\n",
       "Before exercise                    31.0\n",
       "For mental alertness               20.0\n",
       "Throughout the day                 14.0\n",
       "Name: Consume_time, dtype: float64"
      ]
     },
     "execution_count": 48,
     "metadata": {},
     "output_type": "execute_result"
    }
   ],
   "source": [
    "round(df[\"Consume_time\"].value_counts()/100)"
   ]
  },
  {
   "cell_type": "code",
   "execution_count": 49,
   "id": "5b88d7ff",
   "metadata": {},
   "outputs": [
    {
     "data": {
      "text/plain": [
       "[Text(0, 0, '14.5'), Text(0, 0, '20'), Text(0, 0, '31.5'), Text(0, 0, '34.1')]"
      ]
     },
     "execution_count": 49,
     "metadata": {},
     "output_type": "execute_result"
    },
    {
     "data": {
      "image/png": "[encoded data removed]",
      "text/plain": [
       "<Figure size 576x288 with 1 Axes>"
      ]
     },
     "metadata": {
      "needs_background": "light"
     },
     "output_type": "display_data"
    }
   ],
   "source": [
    "fig=round((df[\"Consume_time\"].value_counts()/100).sort_values(ascending=True),1).plot(kind=\"barh\",color=pallete,figsize=(8,4))\n",
    "plt.bar_label(fig.containers[0])"
   ]
  },
  {
   "cell_type": "code",
   "execution_count": null,
   "id": "0cb726aa",
   "metadata": {},
   "outputs": [],
   "source": []
  },
  {
   "cell_type": "code",
   "execution_count": null,
   "id": "fddca834",
   "metadata": {},
   "outputs": [],
   "source": []
  },
  {
   "cell_type": "markdown",
   "id": "cbd42da1",
   "metadata": {},
   "source": [
    "6c. What factors influence respondents' purchase decisions, such as price range and limited edition packaging?"
   ]
  },
  {
   "cell_type": "code",
   "execution_count": 50,
   "id": "38f87648",
   "metadata": {},
   "outputs": [],
   "source": [
    "# trying to catch the behaviour of purchasing on the basis of 1-gender ,2-age-group,3-price_range,\n",
    "#4-city_wise\n"
   ]
  },
  {
   "cell_type": "markdown",
   "id": "3651fb97",
   "metadata": {},
   "source": [
    "### definately AGE is a factor for variation in price range .people above age 30  around 69% are buying  energy drink of 100+ rs.while people with less age go for price range 50-99 .\n",
    "#### we can launch different energy drinks for different buckets of price."
   ]
  },
  {
   "cell_type": "code",
   "execution_count": 51,
   "id": "ec1cb2d0",
   "metadata": {},
   "outputs": [],
   "source": [
    "single=(df[(df[\"Age\"]==\"15-18\") | (df[\"Age\"]==\"19-30\")][\"Price_range\"].value_counts()/70.08)"
   ]
  },
  {
   "cell_type": "code",
   "execution_count": 52,
   "id": "37fc104b",
   "metadata": {},
   "outputs": [
    {
     "data": {
      "text/plain": [
       "50-99        52.111872\n",
       "100-150      24.443493\n",
       "Above 150    13.356164\n",
       "Below 50     10.088470\n",
       "Name: Price_range, dtype: float64"
      ]
     },
     "execution_count": 52,
     "metadata": {},
     "output_type": "execute_result"
    }
   ],
   "source": [
    "single"
   ]
  },
  {
   "cell_type": "code",
   "execution_count": 53,
   "id": "ac5951a2",
   "metadata": {},
   "outputs": [
    {
     "data": {
      "text/plain": [
       "[Text(0, 0, '10'), Text(0, 0, '13'), Text(0, 0, '24'), Text(0, 0, '52')]"
      ]
     },
     "execution_count": 53,
     "metadata": {},
     "output_type": "execute_result"
    },
    {
     "data": {
      "image/png": "[encoded data removed]",
      "text/plain": [
       "<Figure size 576x288 with 1 Axes>"
      ]
     },
     "metadata": {
      "needs_background": "light"
     },
     "output_type": "display_data"
    }
   ],
   "source": [
    "fig=round(single.sort_values(ascending=True)).plot(kind=\"barh\",color=pallete,figsize=(8,4))\n",
    "plt.bar_label(fig.containers[0])"
   ]
  },
  {
   "cell_type": "code",
   "execution_count": null,
   "id": "b145d2e7",
   "metadata": {},
   "outputs": [],
   "source": []
  },
  {
   "cell_type": "code",
   "execution_count": null,
   "id": "6ee4430f",
   "metadata": {},
   "outputs": [],
   "source": []
  },
  {
   "cell_type": "code",
   "execution_count": 54,
   "id": "a2f5a084",
   "metadata": {},
   "outputs": [],
   "source": [
    "mingle=round(df[(df[\"Age\"]!=\"15-18\") & (df[\"Age\"]!=\"19-30\")][\"Price_range\"].value_counts()/29.92)"
   ]
  },
  {
   "cell_type": "code",
   "execution_count": 55,
   "id": "96d57140",
   "metadata": {},
   "outputs": [
    {
     "data": {
      "text/plain": [
       "[Text(0, 0, '10'), Text(0, 0, '21'), Text(0, 0, '21'), Text(0, 0, '48')]"
      ]
     },
     "execution_count": 55,
     "metadata": {},
     "output_type": "execute_result"
    },
    {
     "data": {
      "image/png": "[encoded data removed]",
      "text/plain": [
       "<Figure size 576x288 with 1 Axes>"
      ]
     },
     "metadata": {
      "needs_background": "light"
     },
     "output_type": "display_data"
    }
   ],
   "source": [
    "fig=round(mingle.sort_values(ascending=True)).plot(kind=\"barh\",color=pallete,figsize=(8,4))\n",
    "plt.bar_label(fig.containers[0])"
   ]
  },
  {
   "cell_type": "code",
   "execution_count": null,
   "id": "afe25989",
   "metadata": {},
   "outputs": [],
   "source": []
  },
  {
   "cell_type": "markdown",
   "id": "51fe709d",
   "metadata": {},
   "source": [
    "### 7. Product Development\n",
    "a. Which area of business should we focus more on our product development? \n",
    "(Branding/taste/availability)"
   ]
  },
  {
   "cell_type": "markdown",
   "id": "dcf686a6",
   "metadata": {},
   "source": [
    "ans=all of three (show it on the basis of data)\n"
   ]
  },
  {
   "cell_type": "code",
   "execution_count": 56,
   "id": "183ad9fc",
   "metadata": {},
   "outputs": [
    {
     "data": {
      "text/plain": [
       "Brand reputation           27.0\n",
       "Taste/flavor preference    20.0\n",
       "Availability               19.0\n",
       "Effectiveness              17.0\n",
       "Other                      17.0\n",
       "Name: Reasons_for_choosing_brands, dtype: float64"
      ]
     },
     "execution_count": 56,
     "metadata": {},
     "output_type": "execute_result"
    }
   ],
   "source": [
    "round(df[\"Reasons_for_choosing_brands\"].value_counts()/100)"
   ]
  },
  {
   "cell_type": "code",
   "execution_count": 57,
   "id": "d997cf0b",
   "metadata": {},
   "outputs": [
    {
     "data": {
      "text/plain": [
       "74.22"
      ]
     },
     "execution_count": 57,
     "metadata": {},
     "output_type": "execute_result"
    }
   ],
   "source": [
    "df[df[\"Taste_experience\"]>=3].shape[0]/100"
   ]
  },
  {
   "cell_type": "code",
   "execution_count": 58,
   "id": "f0511d47",
   "metadata": {},
   "outputs": [
    {
     "data": {
      "text/plain": [
       "[Text(0, 0, '16.79'),\n",
       " Text(0, 0, '17.48'),\n",
       " Text(0, 0, '19.1'),\n",
       " Text(0, 0, '20.11'),\n",
       " Text(0, 0, '26.52')]"
      ]
     },
     "execution_count": 58,
     "metadata": {},
     "output_type": "execute_result"
    },
    {
     "data": {
      "image/png": "[encoded data removed]",
      "text/plain": [
       "<Figure size 720x288 with 1 Axes>"
      ]
     },
     "metadata": {
      "needs_background": "light"
     },
     "output_type": "display_data"
    }
   ],
   "source": [
    "fig=(df[\"Reasons_for_choosing_brands\"].value_counts()/100).sort_values(ascending=True).plot(kind=\"barh\",color=pallete,figsize=(10,4))\n",
    "plt.bar_label(fig.containers[0])"
   ]
  },
  {
   "cell_type": "markdown",
   "id": "b88ae682",
   "metadata": {},
   "source": [
    "each factor has importance but we should start with brand reputation and then availabilty because\n",
    "taste is good in future we can focus on it as well "
   ]
  },
  {
   "cell_type": "code",
   "execution_count": null,
   "id": "c3e9565a",
   "metadata": {},
   "outputs": [],
   "source": []
  }
 ],
 "metadata": {
  "kernelspec": {
   "display_name": "Python 3",
   "language": "python",
   "name": "python3"
  },
  "language_info": {
   "codemirror_mode": {
    "name": "ipython",
    "version": 3
   },
   "file_extension": ".py",
   "mimetype": "text/x-python",
   "name": "python",
   "nbconvert_exporter": "python",
   "pygments_lexer": "ipython3",
   "version": "3.8.8"
  }
 },
 "nbformat": 4,
 "nbformat_minor": 5
}
